{
 "cells": [
  {
   "cell_type": "code",
   "execution_count": 5,
   "id": "d70deb50",
   "metadata": {},
   "outputs": [],
   "source": [
    "import pandas as pd\n",
    "from sklearn.linear_model import LinearRegression\n",
    "from sklearn.metrics import mean_absolute_error, mean_squared_error\n",
    "from sklearn.model_selection import train_test_split"
   ]
  },
  {
   "cell_type": "code",
   "execution_count": 6,
   "id": "3a8e9ffe",
   "metadata": {},
   "outputs": [],
   "source": [
    "dataset = pd.read_csv(\"Advertising.csv\")\n",
    "x = dataset.iloc[:,1:4]\n",
    "y = dataset.iloc[:,-1]\n",
    "X_train,X_test,Y_train,Y_test=train_test_split(x,y,train_size=0.8)"
   ]
  },
  {
   "cell_type": "code",
   "execution_count": 3,
   "id": "cccd3b16",
   "metadata": {},
   "outputs": [],
   "source": [
    "model = LinearRegression()\n",
    "model.fit(X_train,Y_train)\n",
    "Y_pred = model.predict(X_test)"
   ]
  },
  {
   "cell_type": "code",
   "execution_count": 4,
   "id": "bd883ebd",
   "metadata": {},
   "outputs": [
    {
     "name": "stdout",
     "output_type": "stream",
     "text": [
      "mean_squared_error :  4.046601920933641\n",
      "mean_absolute_error:  1.50079378771058\n"
     ]
    }
   ],
   "source": [
    "print('mean_squared_error : ', mean_squared_error(Y_test, Y_pred))\n",
    "print(\"mean_absolute_error: \", mean_absolute_error(Y_test,Y_pred))"
   ]
  }
 ],
 "metadata": {
  "kernelspec": {
   "display_name": "Python 3 (ipykernel)",
   "language": "python",
   "name": "python3"
  },
  "language_info": {
   "codemirror_mode": {
    "name": "ipython",
    "version": 3
   },
   "file_extension": ".py",
   "mimetype": "text/x-python",
   "name": "python",
   "nbconvert_exporter": "python",
   "pygments_lexer": "ipython3",
   "version": "3.9.13"
  }
 },
 "nbformat": 4,
 "nbformat_minor": 5
}
